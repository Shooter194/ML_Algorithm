{
 "cells": [
  {
   "cell_type": "markdown",
   "metadata": {
    "deletable": true,
    "editable": true
   },
   "source": [
    "# Simple Linear Regression"
   ]
  },
  {
   "cell_type": "markdown",
   "metadata": {
    "deletable": true,
    "editable": true
   },
   "source": [
    "Linear regression assumes as a linear or straight line relationship between input variable (X) and output variable (Y).\n",
    "\n",
    "The line of simple linear model is written as:\n",
    "```\n",
    "y = b0*x +b1\n",
    "```\n",
    "where,<br /> y is output variable,<br />x is input variable,<br />b0,b1 cofficient variable which are need to calculate to fiting the best line in dataset.\n"
   ]
  },
  {
   "cell_type": "code",
   "execution_count": 18,
   "metadata": {
    "collapsed": false,
    "deletable": true,
    "editable": true
   },
   "outputs": [],
   "source": [
    "# import libraries\n",
    "import pandas as pd\n",
    "from math import sqrt\n",
    "from matplotlib import pyplot as plt\n",
    "from random import randrange"
   ]
  },
  {
   "cell_type": "code",
   "execution_count": 2,
   "metadata": {
    "collapsed": false,
    "deletable": true,
    "editable": true
   },
   "outputs": [
    {
     "data": {
      "text/html": [
       "<div>\n",
       "<table border=\"1\" class=\"dataframe\">\n",
       "  <thead>\n",
       "    <tr style=\"text-align: right;\">\n",
       "      <th></th>\n",
       "      <th>X</th>\n",
       "      <th>Y</th>\n",
       "    </tr>\n",
       "  </thead>\n",
       "  <tbody>\n",
       "    <tr>\n",
       "      <th>0</th>\n",
       "      <td>108</td>\n",
       "      <td>392.5</td>\n",
       "    </tr>\n",
       "    <tr>\n",
       "      <th>1</th>\n",
       "      <td>19</td>\n",
       "      <td>46.2</td>\n",
       "    </tr>\n",
       "    <tr>\n",
       "      <th>2</th>\n",
       "      <td>13</td>\n",
       "      <td>15.7</td>\n",
       "    </tr>\n",
       "    <tr>\n",
       "      <th>3</th>\n",
       "      <td>124</td>\n",
       "      <td>422.2</td>\n",
       "    </tr>\n",
       "    <tr>\n",
       "      <th>4</th>\n",
       "      <td>40</td>\n",
       "      <td>119.4</td>\n",
       "    </tr>\n",
       "  </tbody>\n",
       "</table>\n",
       "</div>"
      ],
      "text/plain": [
       "     X      Y\n",
       "0  108  392.5\n",
       "1   19   46.2\n",
       "2   13   15.7\n",
       "3  124  422.2\n",
       "4   40  119.4"
      ]
     },
     "execution_count": 2,
     "metadata": {},
     "output_type": "execute_result"
    }
   ],
   "source": [
    "# read train data\n",
    "train_data = pd.read_csv(\"C:/Users/guptambr/ML_Algorithm/datasets/insurance1.csv\")\n",
    "train_data.head()"
   ]
  },
  {
   "cell_type": "code",
   "execution_count": 71,
   "metadata": {
    "collapsed": false,
    "deletable": true,
    "editable": true
   },
   "outputs": [
    {
     "data": {
      "image/png": "[encoded data removed]",
      "text/plain": [
       "<matplotlib.figure.Figure at 0x8f880b8>"
      ]
     },
     "metadata": {},
     "output_type": "display_data"
    }
   ],
   "source": [
    "# plot the data\n",
    "plt.scatter(train_data.X,train_data.Y)\n",
    "plt.show()"
   ]
  },
  {
   "cell_type": "markdown",
   "metadata": {
    "collapsed": true,
    "deletable": true,
    "editable": true
   },
   "source": [
    "### Steps of Linear Regression"
   ]
  },
  {
   "cell_type": "markdown",
   "metadata": {
    "deletable": true,
    "editable": true
   },
   "source": [
    "Divided the Linear Regression tutorial in five parts:\n",
    "\n",
    "1. Calculate Mean and Variance\n",
    "2. Calculate the Covariance.\n",
    "3. Estimate the Cofficients\n",
    "4. Make Prediction\n",
    "5. Predict target value (Here it's Insurance)"
   ]
  },
  {
   "cell_type": "markdown",
   "metadata": {
    "deletable": true,
    "editable": true
   },
   "source": [
    "#### 1. Calculate Mean & Variance"
   ]
  },
  {
   "cell_type": "markdown",
   "metadata": {
    "deletable": true,
    "editable": true
   },
   "source": [
    "**Mean** : Mean is the average of the list<br />\n",
    "        ```[(sum of list element)/(length of list)]```<br />\n",
    "**Variance** : Variance is sum of squared difference of each value from the mean of list<br />\n",
    "        ```step1 : calculate squared difference [(x - mean_of_list)**2 for each x of the list]```<br />\n",
    "        ```step2 : sum of squared difference of all element of list which calculated in step1```\n",
    "        "
   ]
  },
  {
   "cell_type": "code",
   "execution_count": 4,
   "metadata": {
    "collapsed": false,
    "deletable": true,
    "editable": true
   },
   "outputs": [
    {
     "name": "stdout",
     "output_type": "stream",
     "text": [
      "x stats : mean=3.000 variance=10.000\n",
      "y stats : mean=2.800 variance=8.800\n"
     ]
    }
   ],
   "source": [
    "# Estimate Mean and Variance\n",
    "\n",
    "# Calculate the Mean value of list of a number\n",
    "def mean(lst_values):\n",
    "    return sum(lst_values) / float(len(lst_values))\n",
    "\n",
    "# Calculate the Variance of list of number\n",
    "def variance(lst_values,mean):\n",
    "    return sum([(x-mean)**2 for x in lst_values])\n",
    "\n",
    "# To test mean and variance function used dummy dataset\n",
    "data = [[1, 1], [2, 3], [4, 3], [3, 2], [5, 5]]\n",
    "x = [r[0] for r in data]\n",
    "y = [r[1] for r in data]\n",
    "\n",
    "# find mean of x and y\n",
    "mean_x = mean(x)\n",
    "mean_y = mean(y)\n",
    "\n",
    "variance_x = variance(x,mean_x)\n",
    "variance_y = variance(y,mean_y)\n",
    "print (\"x stats : mean=%.3f variance=%.3f\" %(mean_x,variance_x))\n",
    "print (\"y stats : mean=%.3f variance=%.3f\" %(mean_y,variance_y))"
   ]
  },
  {
   "cell_type": "markdown",
   "metadata": {
    "collapsed": true,
    "deletable": true,
    "editable": true
   },
   "source": [
    "#### 2. Calculate Covariance "
   ]
  },
  {
   "cell_type": "markdown",
   "metadata": {
    "deletable": true,
    "editable": true
   },
   "source": [
    "**Covariance:** Covariance of two groups of number how those numbers change together.<br />\n",
    "Covariance is a genralization of correlation. Correlation describe the relationship between two groups of number, where as covariance describe the the relationship between two or more group of number.<br />\n",
    "```covariance = sum((x_element - mean(x_group)) * (y_element - mean(y_group)))```"
   ]
  },
  {
   "cell_type": "code",
   "execution_count": 5,
   "metadata": {
    "collapsed": false,
    "deletable": true,
    "editable": true
   },
   "outputs": [
    {
     "name": "stdout",
     "output_type": "stream",
     "text": [
      "covariance: 8.000\n"
     ]
    }
   ],
   "source": [
    "# Calculate the covariance between x and y\n",
    "def covariance(x,mean_x,y,mean_y):\n",
    "    covar = 0.0\n",
    "    for i in range(len(x)):\n",
    "        covar += (x[i] - mean_x) * (y[i] - mean_y)\n",
    "    return covar\n",
    "\n",
    "# test the covariance function\n",
    "data = [[1, 1], [2, 3], [4, 3], [3, 2], [5, 5]]\n",
    "x = [row[0] for row in data]\n",
    "y = [row[1] for row in data]\n",
    "\n",
    "mean_x = mean(x)\n",
    "mean_y = mean(y)\n",
    "covari = covariance(x,mean_x,y,mean_y)\n",
    "print (\"covariance: %.3f\"% (covari))"
   ]
  },
  {
   "cell_type": "markdown",
   "metadata": {
    "deletable": true,
    "editable": true
   },
   "source": [
    "#### 3. Estimate the coefficients"
   ]
  },
  {
   "cell_type": "markdown",
   "metadata": {
    "deletable": true,
    "editable": true
   },
   "source": [
    "There are two coefficient need to be calculate b0 and b1.<br />\n",
    "Linear regression equation is : ```y = b0*x + b1```<br />\n",
    "Estimation of b0 : ```b0 = covariance(x,y)/variance(x)```<br />\n",
    "Estimation of b1 : ```b1 = mean(y) - b0 * mean(x)```"
   ]
  },
  {
   "cell_type": "code",
   "execution_count": 88,
   "metadata": {
    "collapsed": false,
    "deletable": true,
    "editable": true
   },
   "outputs": [
    {
     "name": "stdout",
     "output_type": "stream",
     "text": [
      "Coefficients: B0=0.800, B1=0.400\n"
     ]
    }
   ],
   "source": [
    "# Calculate the cofficients\n",
    "def coefficients(dataset):\n",
    "    x = [row[0] for row in dataset]\n",
    "    y = [row[1] for row in dataset]\n",
    "    mean_x,mean_y = mean(x),mean(y)\n",
    "    b0 = covariance(x,mean_x,y,mean_y) / variance(x,mean_x)\n",
    "    b1 = mean_y- b0 * mean_x\n",
    "    return b1,b0\n",
    "# validate the cofficient function\n",
    "dataset = [[1, 1], [2, 3], [4, 3], [3, 2], [5, 5]]\n",
    "b1, b0 = coefficients(dataset)\n",
    "print('Coefficients: B0=%.3f, B1=%.3f' % (b0, b1))"
   ]
  },
  {
   "cell_type": "markdown",
   "metadata": {
    "deletable": true,
    "editable": true
   },
   "source": [
    "#### 4. Make Predictions"
   ]
  },
  {
   "cell_type": "markdown",
   "metadata": {
    "deletable": true,
    "editable": true
   },
   "source": [
    "Linear Regression equation : ```y = b0*x + b1```"
   ]
  },
  {
   "cell_type": "code",
   "execution_count": 89,
   "metadata": {
    "collapsed": true
   },
   "outputs": [],
   "source": [
    "# First split the train data into training set and validation set\n",
    "def train_valid_split(dataset,split):\n",
    "    train = []\n",
    "    train_size = split * len(dataset)\n",
    "    valid_set = list(dataset)\n",
    "    print (len(valid_set))\n",
    "    while len(train) <= train_size:\n",
    "        index = randrange(len(valid_set))\n",
    "        train.append(valid_set.pop(index))\n",
    "    return train,valid_set    "
   ]
  },
  {
   "cell_type": "code",
   "execution_count": 90,
   "metadata": {
    "collapsed": true,
    "deletable": true,
    "editable": true
   },
   "outputs": [],
   "source": [
    "# simple linear regression to predict the target value\n",
    "def simple_linear_regression(train,test):\n",
    "    prediction = []\n",
    "    b1,b0 = coefficients(train)\n",
    "    #print (b1,b0)\n",
    "    X = [row[0] for row in train]\n",
    "    Y = [row[1] for row in train]\n",
    "    y = [b0*row[0] + b1 for row in train]\n",
    "    plt.scatter(X,Y)\n",
    "    plt.plot(X,y)\n",
    "    plt.show()\n",
    "    for row in test:\n",
    "        yhat = b0*row[0] + b1\n",
    "        prediction.append(yhat)\n",
    "    return prediction\n"
   ]
  },
  {
   "cell_type": "code",
   "execution_count": 91,
   "metadata": {
    "collapsed": true,
    "deletable": true,
    "editable": true
   },
   "outputs": [],
   "source": [
    "# To check the performance of the model used root square mean error\n",
    "def root_square_mean_error(actual,predicted):\n",
    "    sum_err = 0.0\n",
    "    for i in range(len(actual)):\n",
    "        predict_err = predicted[i] - actual[i]\n",
    "        sum_err += ((predict_err) ** 2)\n",
    "    mean_sqr_err = (sum_err)/len(actual)\n",
    "    return sqrt(mean_sqr_err)\n",
    "        "
   ]
  },
  {
   "cell_type": "code",
   "execution_count": 92,
   "metadata": {
    "collapsed": true
   },
   "outputs": [],
   "source": [
    "# Evaluate the regression algorithm on training dataset\n",
    "def evaluate_algo(dataset,algorithm,split):\n",
    "    train,valid = train_valid_split(dataset,split)\n",
    "    valid_set = []\n",
    "    for row in valid:\n",
    "        row_copy = list(row)\n",
    "        row_copy[-1] = None\n",
    "        valid_set.append(row_copy)\n",
    "    print (valid_set)\n",
    "    predicted = algorithm(train,valid_set)\n",
    "    actual = [row[-1] for row in valid]\n",
    "    #print (len(predicted),len(actual))\n",
    "    rsme = root_square_mean_error(actual,predicted)\n",
    "    return rsme"
   ]
  },
  {
   "cell_type": "code",
   "execution_count": 99,
   "metadata": {
    "collapsed": false
   },
   "outputs": [
    {
     "name": "stdout",
     "output_type": "stream",
     "text": [
      "63\n",
      "[[108.0, None], [23.0, None], [10.0, None], [48.0, None], [11.0, None], [7.0, None], [24.0, None], [3.0, None], [9.0, None], [9.0, None], [29.0, None], [7.0, None], [25.0, None], [5.0, None], [22.0, None], [61.0, None], [12.0, None], [13.0, None], [27.0, None], [3.0, None], [15.0, None], [29.0, None], [24.0, None], [31.0, None], [14.0, None]]\n"
     ]
    },
    {
     "data": {
      "image/png": "[encoded data removed]",
      "text/plain": [
       "<matplotlib.figure.Figure at 0x9345898>"
      ]
     },
     "metadata": {},
     "output_type": "display_data"
    },
    {
     "name": "stdout",
     "output_type": "stream",
     "text": [
      "34.32783837241274\n"
     ]
    }
   ],
   "source": [
    "# load dataset\n",
    "train_data = pd.read_csv(\"C:/Users/guptambr/ML_Algorithm/datasets/insurance1.csv\")\n",
    "split = 0.6\n",
    "dataset = list(map(list, train_data.values))\n",
    "rsme = evaluate_algo(dataset,simple_linear_regression,split)\n",
    "print (rsme)"
   ]
  }
 ],
 "metadata": {
  "kernelspec": {
   "display_name": "Python 3",
   "language": "python",
   "name": "python3"
  },
  "language_info": {
   "codemirror_mode": {
    "name": "ipython",
    "version": 3
   },
   "file_extension": ".py",
   "mimetype": "text/x-python",
   "name": "python",
   "nbconvert_exporter": "python",
   "pygments_lexer": "ipython3",
   "version": "3.6.0"
  }
 },
 "nbformat": 4,
 "nbformat_minor": 2
}
