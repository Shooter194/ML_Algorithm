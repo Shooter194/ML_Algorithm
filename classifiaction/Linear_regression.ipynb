{
 "cells": [
  {
   "cell_type": "markdown",
   "metadata": {
    "deletable": true,
    "editable": true
   },
   "source": [
    "# Simple Linear Regression"
   ]
  },
  {
   "cell_type": "markdown",
   "metadata": {
    "deletable": true,
    "editable": true
   },
   "source": [
    "Linear regression assumes as a linear or straight line relationship between input variable (X) and output variable (Y).\n",
    "\n",
    "The line of simple linear model is written as:\n",
    "```\n",
    "y = b0*x +b1\n",
    "```\n",
    "where,<br /> y is output variable,<br />x is input variable,<br />b0,b1 cofficient variable which are need to calculate to fiting the best line in dataset.\n"
   ]
  },
  {
   "cell_type": "code",
   "execution_count": 2,
   "metadata": {
    "collapsed": false,
    "deletable": true,
    "editable": true
   },
   "outputs": [],
   "source": [
    "# import libraries\n",
    "import pandas as pd\n",
    "from matplotlib import pyplot as plt"
   ]
  },
  {
   "cell_type": "code",
   "execution_count": 4,
   "metadata": {
    "collapsed": false,
    "deletable": true,
    "editable": true
   },
   "outputs": [
    {
     "data": {
      "text/html": [
       "<div>\n",
       "<table border=\"1\" class=\"dataframe\">\n",
       "  <thead>\n",
       "    <tr style=\"text-align: right;\">\n",
       "      <th></th>\n",
       "      <th>X</th>\n",
       "      <th>Y</th>\n",
       "    </tr>\n",
       "  </thead>\n",
       "  <tbody>\n",
       "    <tr>\n",
       "      <th>0</th>\n",
       "      <td>108</td>\n",
       "      <td>392.5</td>\n",
       "    </tr>\n",
       "    <tr>\n",
       "      <th>1</th>\n",
       "      <td>19</td>\n",
       "      <td>46.2</td>\n",
       "    </tr>\n",
       "    <tr>\n",
       "      <th>2</th>\n",
       "      <td>13</td>\n",
       "      <td>15.7</td>\n",
       "    </tr>\n",
       "    <tr>\n",
       "      <th>3</th>\n",
       "      <td>124</td>\n",
       "      <td>422.2</td>\n",
       "    </tr>\n",
       "    <tr>\n",
       "      <th>4</th>\n",
       "      <td>40</td>\n",
       "      <td>119.4</td>\n",
       "    </tr>\n",
       "  </tbody>\n",
       "</table>\n",
       "</div>"
      ],
      "text/plain": [
       "     X      Y\n",
       "0  108  392.5\n",
       "1   19   46.2\n",
       "2   13   15.7\n",
       "3  124  422.2\n",
       "4   40  119.4"
      ]
     },
     "execution_count": 4,
     "metadata": {},
     "output_type": "execute_result"
    }
   ],
   "source": [
    "# read train data\n",
    "train_data = pd.read_csv(\"C:/Users/guptambr/ML_Algorithm/datasets/insurance1.csv\")\n",
    "train_data.head()"
   ]
  },
  {
   "cell_type": "code",
   "execution_count": 6,
   "metadata": {
    "collapsed": false,
    "deletable": true,
    "editable": true
   },
   "outputs": [
    {
     "data": {
      "image/png": "[encoded data removed]",
      "text/plain": [
       "<matplotlib.figure.Figure at 0x8592be0>"
      ]
     },
     "metadata": {},
     "output_type": "display_data"
    }
   ],
   "source": [
    "# plot the data\n",
    "plt.scatter(train_data.X,train_data.Y)\n",
    "plt.show()"
   ]
  },
  {
   "cell_type": "markdown",
   "metadata": {
    "collapsed": true,
    "deletable": true,
    "editable": true
   },
   "source": [
    "## Tutorial"
   ]
  },
  {
   "cell_type": "markdown",
   "metadata": {},
   "source": [
    "Divided the Linear Regression tutorial in five parts:\n",
    "\n",
    "1. Calculate Mean and Variance\n",
    "2. Calculate the Covariance.\n",
    "3. Estimate the Cofficients\n",
    "4. Make Prediction\n",
    "5. Predict target value (Here it's Insurance)"
   ]
  },
  {
   "cell_type": "markdown",
   "metadata": {},
   "source": [
    "#### 1. Calculate Mean & Variance"
   ]
  },
  {
   "cell_type": "markdown",
   "metadata": {},
   "source": [
    "**Mean** : Mean is the average of the list<br />\n",
    "        ```[(sum of list element)/(length of list)]```<br />\n",
    "**Variance** : Variance is sum of squared difference of each value from the mean of list<br />\n",
    "        ```step1 : calculate squared difference [(x - mean_of_list)**2 for each x of the list]```<br />\n",
    "        ```step2 : sum of squared difference of all element of list which calculated in step1```\n",
    "        "
   ]
  },
  {
   "cell_type": "code",
   "execution_count": 8,
   "metadata": {
    "collapsed": false
   },
   "outputs": [
    {
     "name": "stdout",
     "output_type": "stream",
     "text": [
      "x stats : mean=3.000 variance=10.000\n",
      "y stats : mean=2.800 variance=8.800\n"
     ]
    }
   ],
   "source": [
    "# Estimate Mean and Variance\n",
    "\n",
    "# Calculate the Mean value of list of a number\n",
    "def mean(lst_values):\n",
    "    return sum(lst_values) / float(len(lst_values))\n",
    "\n",
    "# Calculate the Variance of list of number\n",
    "def variance(lst_values,mean):\n",
    "    return sum([(x-mean)**2 for x in lst_values])\n",
    "\n",
    "# To test mean and variance function used dummy dataset\n",
    "data = [[1, 1], [2, 3], [4, 3], [3, 2], [5, 5]]\n",
    "x = [r[0] for r in data]\n",
    "y = [r[1] for r in data]\n",
    "\n",
    "# find mean of x and y\n",
    "mean_x = mean(x)\n",
    "mean_y = mean(y)\n",
    "\n",
    "variance_x = variance(x,mean_x)\n",
    "variance_y = variance(y,mean_y)\n",
    "print (\"x stats : mean=%.3f variance=%.3f\" %(mean_x,variance_x))\n",
    "print (\"y stats : mean=%.3f variance=%.3f\" %(mean_y,variance_y))"
   ]
  },
  {
   "cell_type": "code",
   "execution_count": null,
   "metadata": {
    "collapsed": true
   },
   "outputs": [],
   "source": []
  }
 ],
 "metadata": {
  "kernelspec": {
   "display_name": "Python 3",
   "language": "python",
   "name": "python3"
  },
  "language_info": {
   "codemirror_mode": {
    "name": "ipython",
    "version": 3
   },
   "file_extension": ".py",
   "mimetype": "text/x-python",
   "name": "python",
   "nbconvert_exporter": "python",
   "pygments_lexer": "ipython3",
   "version": "3.6.0"
  }
 },
 "nbformat": 4,
 "nbformat_minor": 2
}
